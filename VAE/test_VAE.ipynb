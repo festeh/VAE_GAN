{
 "cells": [
  {
   "cell_type": "code",
   "execution_count": 1,
   "metadata": {},
   "outputs": [],
   "source": [
    "import sys\n",
    "sys.path.append(\"../../VAE_GAN\")\n",
    "sys.path.append(\"../slim\")"
   ]
  },
  {
   "cell_type": "code",
   "execution_count": 2,
   "metadata": {},
   "outputs": [
    {
     "name": "stderr",
     "output_type": "stream",
     "text": [
      "/home/dlipin/miniconda3/envs/dl/lib/python3.6/site-packages/h5py/__init__.py:36: FutureWarning: Conversion of the second argument of issubdtype from `float` to `np.floating` is deprecated. In future, it will be treated as `np.float64 == np.dtype(float).type`.\n",
      "  from ._conv import register_converters as _register_converters\n"
     ]
    },
    {
     "name": "stdout",
     "output_type": "stream",
     "text": [
      "WARNING:tensorflow:From /home/dlipin/miniconda3/envs/dl/lib/python3.6/site-packages/tensorflow/contrib/learn/python/learn/datasets/base.py:198: retry (from tensorflow.contrib.learn.python.learn.datasets.base) is deprecated and will be removed in a future version.\n",
      "Instructions for updating:\n",
      "Use the retry module or similar alternatives.\n"
     ]
    }
   ],
   "source": [
    "from variational_autoencoder import VAE\n",
    "import tensorflow as tf\n",
    "import time\n",
    "import os\n",
    "import numpy as np\n",
    "import cv2\n",
    "import matplotlib.pyplot as plt"
   ]
  },
  {
   "cell_type": "code",
   "execution_count": 10,
   "metadata": {},
   "outputs": [
    {
     "name": "stdout",
     "output_type": "stream",
     "text": [
      "The mode is train.\n",
      "complete initializing model.\n",
      "complete model build.\n",
      "INFO:tensorflow:Loading model from checkpoint: model_slim/model.ckpt-100000\n",
      "INFO:tensorflow:Restoring parameters from model_slim/model.ckpt-100000\n",
      "INFO:tensorflow:Successfully loaded checkpoint: model.ckpt-100000\n"
     ]
    }
   ],
   "source": [
    "checkpoint_folder_path = \"model_slim\"\n",
    "checkpoint_path = tf.train.latest_checkpoint(checkpoint_folder_path)\n",
    "checkpoint_step = int(checkpoint_path.split('-')[1])\n",
    "batch_size = 64\n",
    "\n",
    "queues = tf.contrib.slim.queues\n",
    "with tf.Graph().as_default():\n",
    "    model = VAE(mode=\"train\", data_path=\"../data/mnist\", z_dim=64)\n",
    "    model.build()\n",
    "    saver = tf.train.Saver()\n",
    "    \n",
    "    with tf.Session() as sess:\n",
    "        with queues.QueueRunners(sess):\n",
    "            tf.logging.info(\"Loading model from checkpoint: %s\", checkpoint_path)\n",
    "            inputs = sess.run(model.inputs)\n",
    "            model.inputs = tf.Variable(inputs)\n",
    "            sess.run(tf.global_variables_initializer())\n",
    "            saver.restore(sess, checkpoint_path)\n",
    "            tf.logging.info(\"Successfully loaded checkpoint: %s\",\n",
    "                            os.path.basename(checkpoint_path))\n",
    "            model.inputs.assign(inputs)\n",
    "            gray_1d = sess.run(tf.nn.sigmoid(\n",
    "                model.Decoder(model.sampling_z(*\n",
    "                    model.Encoder(\n",
    "                        model.inputs)))))[0]\n",
    "#             gray_1d = sess.run(tf.nn.sigmoid(model.logits))\n"
   ]
  },
  {
   "cell_type": "code",
   "execution_count": 14,
   "metadata": {},
   "outputs": [
    {
     "data": {
      "text/plain": [
       "<matplotlib.image.AxesImage at 0x7fc4193a7860>"
      ]
     },
     "execution_count": 14,
     "metadata": {},
     "output_type": "execute_result"
    },
    {
     "data": {
      "image/png": "[encoded data removed]",
      "text/plain": [
       "<Figure size 432x288 with 1 Axes>"
      ]
     },
     "metadata": {},
     "output_type": "display_data"
    },
    {
     "data": {
      "image/png": "[encoded data removed]",
      "text/plain": [
       "<Figure size 432x288 with 1 Axes>"
      ]
     },
     "metadata": {},
     "output_type": "display_data"
    }
   ],
   "source": [
    "idx = 2\n",
    "\n",
    "plt.imshow(inputs[idx].reshape(28, 28), cmap='gray')\n",
    "plt.figure()\n",
    "plt.imshow(gray_1d[idx].reshape(28, 28), cmap='gray')"
   ]
  },
  {
   "cell_type": "code",
   "execution_count": 15,
   "metadata": {},
   "outputs": [
    {
     "data": {
      "text/plain": [
       "array([0.17247231, 0.16529694, 0.08025853, 0.18252991, 0.11923107,\n",
       "       0.14031796, 0.09899585, 0.11725665, 0.08184824, 0.09604666,\n",
       "       0.14355183, 0.11437916, 0.0802652 , 0.11168512, 0.12768093,\n",
       "       0.06248052, 0.10260703, 0.10480853, 0.1762048 , 0.12288141,\n",
       "       0.09577862, 0.08716523, 0.12730202, 0.07207102, 0.07827289,\n",
       "       0.05391872, 0.12420153, 0.08304536, 0.09462722, 0.1227266 ,\n",
       "       0.15171468, 0.07850253, 0.05948865, 0.10908111, 0.15667674,\n",
       "       0.08510231, 0.12190851, 0.10971861, 0.1272408 , 0.15823595,\n",
       "       0.2317712 , 0.09375759, 0.1417726 , 0.11655366, 0.16710167,\n",
       "       0.15146975, 0.12595205, 0.08725545, 0.11219778, 0.11200142,\n",
       "       0.22660251, 0.04699356, 0.13666852, 0.09856825, 0.1322912 ,\n",
       "       0.14899816, 0.062095  , 0.15424432, 0.07085469, 0.11456438,\n",
       "       0.15971573, 0.15686008, 0.09256674, 0.14723848], dtype=float32)"
      ]
     },
     "execution_count": 15,
     "metadata": {},
     "output_type": "execute_result"
    }
   ],
   "source": [
    "gray_1d.mean(axis=1)"
   ]
  },
  {
   "cell_type": "code",
   "execution_count": 6,
   "metadata": {},
   "outputs": [
    {
     "name": "stdout",
     "output_type": "stream",
     "text": [
      "The mode is generate.\n",
      "complete initializing model.\n",
      "complete model build.\n"
     ]
    }
   ],
   "source": [
    "checkpoint_folder_path = \"model_slim\"\n",
    "checkpoint_step = -1\n",
    "batch_size = 64\n",
    "\n",
    "def run_generator_once(saver, checkpoint_path, model):\n",
    "    start_time = time.time()\n",
    "    with tf.Session() as sess:\n",
    "        tf.logging.info(\"Loading model from checkpoint: %s\", checkpoint_path)\n",
    "        saver.restore(sess, checkpoint_path)\n",
    "        tf.logging.info(\"Successfully loaded checkpoint: %s\",\n",
    "                        os.path.basename(checkpoint_path))\n",
    "\n",
    "        gray_1d = sess.run(model.X_samples)\n",
    "        gray_1d *= 255.\n",
    "        gray_2d = np.reshape(gray_1d, [batch_size, 28, 28])\n",
    "        color_2d = []\n",
    "        for i, gray in enumerate(gray_2d):\n",
    "            color_image = cv2.merge([gray, gray, gray])\n",
    "            color_image = np.reshape(color_image, [1, 28, 28, 3])\n",
    "            if i == 0:\n",
    "                color_2d = color_image\n",
    "            else:\n",
    "                color_2d = np.concatenate((color_2d, color_image), axis=0)\n",
    "\n",
    "        generated_images = color_2d\n",
    "        print(generated_images.shape)\n",
    "\n",
    "        duration = time.time() - start_time\n",
    "        print(\"Loading time: %.3f\" % duration)\n",
    "\n",
    "    return generated_images\n",
    "\n",
    "with tf.Graph().as_default():\n",
    "    start_time = time.time()\n",
    "\n",
    "    # Build the generative model.\n",
    "    model = VAE(mode=\"generate\")\n",
    "    model.build()\n",
    "\n",
    "#     # Set up the Saver for saving and restoring model checkpoints.\n",
    "#     saver = tf.train.Saver()\n",
    "\n",
    "#     if tf.gfile.IsDirectory(checkpoint_folder_path):\n",
    "#         if checkpoint_step == -1:\n",
    "#             checkpoint_path = tf.train.latest_checkpoint(checkpoint_folder_path)\n",
    "#             checkpoint_step = int(checkpoint_path.split('-')[1])\n",
    "#         else:\n",
    "#             checkpoint_path = os.path.join(checkpoint_path, 'model.ckpt-%d' % checkpoint_step)\n",
    "#             checkpoint_step = checkpoint_step\n",
    "\n",
    "#         if os.path.basename(checkpoint_path) + '.data-00000-of-00001' in os.listdir(checkpoint_folder_path):\n",
    "#             print(os.path.basename(checkpoint_path))\n",
    "#         else:\n",
    "#             raise ValueError(\"No checkpoint file found in: %s\" % checkpoint_path)\n",
    "#         generated_images = run_generator_once(saver, checkpoint_path, model)\n",
    "#     else:\n",
    "#         raise ValueError(\"checkpoint_path must be folder path\")\n",
    "\n",
    "# # squared_images = make_squared_image(generated_images)\n"
   ]
  },
  {
   "cell_type": "code",
   "execution_count": 14,
   "metadata": {},
   "outputs": [
    {
     "data": {
      "text/plain": [
       "<matplotlib.image.AxesImage at 0x7efc480ac6d8>"
      ]
     },
     "execution_count": 14,
     "metadata": {},
     "output_type": "execute_result"
    },
    {
     "data": {
      "image/png": "[encoded data removed]",
      "text/plain": [
       "<matplotlib.figure.Figure at 0x7efc49e8b5c0>"
      ]
     },
     "metadata": {},
     "output_type": "display_data"
    }
   ],
   "source": [
    "def make_squared_image(generated_images):\n",
    "    N = len(generated_images)\n",
    "    black_image = np.zeros(generated_images[0].shape, dtype=np.int32)\n",
    "    w = int(np.minimum(10, np.sqrt(N)))\n",
    "    h = int(np.ceil(N / w))\n",
    "\n",
    "    one_row_image = generated_images[0]\n",
    "    for j in range(1, w):\n",
    "        one_row_image = np.concatenate((one_row_image, generated_images[j]), axis=1)\n",
    "\n",
    "    image = one_row_image\n",
    "    for i in range(1, h):\n",
    "        one_row_image = generated_images[i*w]\n",
    "    for j in range(1, w):\n",
    "        try:\n",
    "            one_row_image = np.concatenate((one_row_image, generated_images[i*w + j]), axis=1)\n",
    "        except:\n",
    "            one_row_image = np.concatenate((one_row_image, black_image), axis=1)\n",
    "    image = np.concatenate((image, one_row_image), axis=0)\n",
    "\n",
    "    return image\n",
    "\n",
    "image = make_squared_image(generated_images)\n",
    "\n",
    "plt.imshow(image / 255, interpolation='lanczos')"
   ]
  },
  {
   "cell_type": "code",
   "execution_count": 8,
   "metadata": {},
   "outputs": [
    {
     "data": {
      "text/plain": [
       "True"
      ]
     },
     "execution_count": 8,
     "metadata": {},
     "output_type": "execute_result"
    }
   ],
   "source": [
    "cv2.imwrite(\"img.png\", image.astype(np.int8))"
   ]
  },
  {
   "cell_type": "code",
   "execution_count": 14,
   "metadata": {},
   "outputs": [
    {
     "data": {
      "text/plain": [
       "array([[[1.4555140e-14, 1.4555140e-14, 1.4555140e-14],\n",
       "        [1.4670360e-14, 1.4670360e-14, 1.4670360e-14],\n",
       "        [2.9882984e-14, 2.9882984e-14, 2.9882984e-14],\n",
       "        ...,\n",
       "        [2.6121723e-15, 2.6121723e-15, 2.6121723e-15],\n",
       "        [8.8224442e-16, 8.8224442e-16, 8.8224442e-16],\n",
       "        [2.2546268e-15, 2.2546268e-15, 2.2546268e-15]],\n",
       "\n",
       "       [[9.4123216e-15, 9.4123216e-15, 9.4123216e-15],\n",
       "        [4.9626127e-15, 4.9626127e-15, 4.9626127e-15],\n",
       "        [4.1267568e-15, 4.1267568e-15, 4.1267568e-15],\n",
       "        ...,\n",
       "        [3.9182698e-15, 3.9182698e-15, 3.9182698e-15],\n",
       "        [1.1668282e-15, 1.1668282e-15, 1.1668282e-15],\n",
       "        [1.5298051e-15, 1.5298051e-15, 1.5298051e-15]],\n",
       "\n",
       "       [[1.4420401e-14, 1.4420401e-14, 1.4420401e-14],\n",
       "        [5.1823365e-15, 5.1823365e-15, 5.1823365e-15],\n",
       "        [9.3383383e-35, 9.3383383e-35, 9.3383383e-35],\n",
       "        ...,\n",
       "        [7.7203145e-20, 7.7203145e-20, 7.7203145e-20],\n",
       "        [1.0382421e-15, 1.0382421e-15, 1.0382421e-15],\n",
       "        [9.4022330e-16, 9.4022330e-16, 9.4022330e-16]],\n",
       "\n",
       "       ...,\n",
       "\n",
       "       [[1.6471287e-10, 1.6471287e-10, 1.6471287e-10],\n",
       "        [1.8592888e-10, 1.8592888e-10, 1.8592888e-10],\n",
       "        [6.8238271e-17, 6.8238271e-17, 6.8238271e-17],\n",
       "        ...,\n",
       "        [2.1369129e-13, 2.1369129e-13, 2.1369129e-13],\n",
       "        [8.3252653e-19, 8.3252653e-19, 8.3252653e-19],\n",
       "        [1.2506919e-09, 1.2506919e-09, 1.2506919e-09]],\n",
       "\n",
       "       [[1.1781831e-10, 1.1781831e-10, 1.1781831e-10],\n",
       "        [8.9677953e-11, 8.9677953e-11, 8.9677953e-11],\n",
       "        [1.3611179e-10, 1.3611179e-10, 1.3611179e-10],\n",
       "        ...,\n",
       "        [1.5323308e-34, 1.5323308e-34, 1.5323308e-34],\n",
       "        [7.1381162e-10, 7.1381162e-10, 7.1381162e-10],\n",
       "        [4.9347532e-10, 4.9347532e-10, 4.9347532e-10]],\n",
       "\n",
       "       [[7.1050783e-11, 7.1050783e-11, 7.1050783e-11],\n",
       "        [9.1048662e-11, 9.1048662e-11, 9.1048662e-11],\n",
       "        [7.7829632e-11, 7.7829632e-11, 7.7829632e-11],\n",
       "        ...,\n",
       "        [1.9476756e-09, 1.9476756e-09, 1.9476756e-09],\n",
       "        [8.1706802e-10, 8.1706802e-10, 8.1706802e-10],\n",
       "        [8.8670415e-10, 8.8670415e-10, 8.8670415e-10]]], dtype=float32)"
      ]
     },
     "execution_count": 14,
     "metadata": {},
     "output_type": "execute_result"
    }
   ],
   "source": [
    "image"
   ]
  },
  {
   "cell_type": "code",
   "execution_count": null,
   "metadata": {},
   "outputs": [],
   "source": []
  }
 ],
 "metadata": {
  "kernelspec": {
   "display_name": "Python 3",
   "language": "python",
   "name": "python3"
  },
  "language_info": {
   "codemirror_mode": {
    "name": "ipython",
    "version": 3
   },
   "file_extension": ".py",
   "mimetype": "text/x-python",
   "name": "python",
   "nbconvert_exporter": "python",
   "pygments_lexer": "ipython3",
   "version": "3.6.4"
  }
 },
 "nbformat": 4,
 "nbformat_minor": 2
}
